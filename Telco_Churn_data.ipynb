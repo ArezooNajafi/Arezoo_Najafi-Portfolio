{
  "nbformat": 4,
  "nbformat_minor": 0,
  "metadata": {
    "colab": {
      "private_outputs": true,
      "provenance": [],
      "authorship_tag": "ABX9TyMg2wbMv2RpY7s8IQ3MlpsY",
      "include_colab_link": true
    },
    "kernelspec": {
      "name": "python3",
      "display_name": "Python 3"
    },
    "language_info": {
      "name": "python"
    }
  },
  "cells": [
    {
      "cell_type": "markdown",
      "metadata": {
        "id": "view-in-github",
        "colab_type": "text"
      },
      "source": [
        "<a href=\"https://colab.research.google.com/github/ArezooNajafi/Arezoo_Najafi-Portfolio/blob/master/Telco_Churn_data.ipynb\" target=\"_parent\"><img src=\"https://colab.research.google.com/assets/colab-badge.svg\" alt=\"Open In Colab\"/></a>"
      ]
    },
    {
      "cell_type": "markdown",
      "source": [
        "Telco Churn is a hypothetical data file that concerns a telecommunications company's efforts to reduce turnover in its customer base. Each case corresponds to a separate customer and it records various demographic and service usage information."
      ],
      "metadata": {
        "id": "DGOd_xB6Sz3E"
      }
    },
    {
      "cell_type": "code",
      "execution_count": null,
      "metadata": {
        "id": "WM2U1b0qPZow"
      },
      "outputs": [],
      "source": [
        "!pip install pandas numpy matplotlib seaborn scikit-learn"
      ]
    },
    {
      "cell_type": "code",
      "source": [
        "import pandas as pd\n",
        "import numpy as np\n",
        "import matplotlib.pyplot as plt\n",
        "import seaborn as sns\n",
        "from sklearn.model_selection import train_test_split\n",
        "from sklearn.linear_model import LogisticRegression\n",
        "from sklearn.preprocessing import StandardScaler\n",
        "\n",
        "from sklearn.metrics import log_loss"
      ],
      "metadata": {
        "id": "87Iz7vkRPiAr"
      },
      "execution_count": null,
      "outputs": []
    },
    {
      "cell_type": "code",
      "source": [
        "url=\"https://cf-courses-data.s3.us.cloud-object-storage.appdomain.cloud/IBMDeveloperSkillsNetwork-ML0101EN-SkillsNetwork/labs/Module%203/data/ChurnData.csv\"\n",
        "df=pd.read_csv(url)\n",
        "df.head()"
      ],
      "metadata": {
        "id": "qdInBTxmPktC"
      },
      "execution_count": null,
      "outputs": []
    },
    {
      "cell_type": "code",
      "source": [
        "df.info()"
      ],
      "metadata": {
        "id": "R6XLs7uDP9wS"
      },
      "execution_count": null,
      "outputs": []
    },
    {
      "cell_type": "code",
      "source": [
        "df.corr()"
      ],
      "metadata": {
        "id": "UgPhWqNmTYCc"
      },
      "execution_count": null,
      "outputs": []
    },
    {
      "cell_type": "code",
      "source": [
        "corr_matrix = df.corr()\n",
        "# Focus on correlation with churn\n",
        "churn_corr = corr_matrix['churn'].sort_values(ascending=False)\n",
        "print(churn_corr)\n",
        "plt.figure(figsize=(10,6))\n",
        "sns.barplot(x=churn_corr.values, y=churn_corr.index)\n",
        "plt.title('Correlation of Features with Churn')\n",
        "plt.show()\n"
      ],
      "metadata": {
        "id": "ISR6mKtpT-cJ"
      },
      "execution_count": null,
      "outputs": []
    },
    {
      "cell_type": "markdown",
      "source": [
        "equip\n",
        "internet\n",
        "tenure\n",
        "employ\n",
        "age\n",
        "income\n",
        "address\n",
        "ebil"
      ],
      "metadata": {
        "id": "QHi8aLSvUn0n"
      }
    },
    {
      "cell_type": "code",
      "source": [
        "df_test=df[['equip','internet','tenure','employ','age','income','address','ebill','churn']]\n",
        "df_test.head()"
      ],
      "metadata": {
        "id": "A4RsbwZzWeDk"
      },
      "execution_count": null,
      "outputs": []
    },
    {
      "cell_type": "code",
      "source": [
        "x=np.asanyarray(df_test[['equip','internet','tenure','employ','age','income','address','ebill']])\n",
        "y=np.asanyarray(df_test[['churn']])"
      ],
      "metadata": {
        "id": "8ciFm6xVW_ga"
      },
      "execution_count": null,
      "outputs": []
    },
    {
      "cell_type": "code",
      "source": [
        "x_norm=StandardScaler().fit(x).transform(x)"
      ],
      "metadata": {
        "id": "oKptkafZYPkZ"
      },
      "execution_count": null,
      "outputs": []
    },
    {
      "cell_type": "code",
      "source": [
        "x_train,x_test,y_train,y_test=train_test_split(x_norm,y,test_size=0.2,random_state=4)"
      ],
      "metadata": {
        "id": "rUVJf8TzYQeq"
      },
      "execution_count": null,
      "outputs": []
    },
    {
      "cell_type": "code",
      "source": [
        "LR = LogisticRegression(C=0.01, solver='liblinear').fit(x_train, y_train.ravel())\n"
      ],
      "metadata": {
        "id": "Zeil7mU4pXDV"
      },
      "execution_count": null,
      "outputs": []
    },
    {
      "cell_type": "code",
      "source": [
        "yhat = LR.predict(x_test)\n",
        "yhat_prob = LR.predict_proba(x_test)"
      ],
      "metadata": {
        "id": "AbOyIErgxASv"
      },
      "execution_count": null,
      "outputs": []
    },
    {
      "cell_type": "code",
      "source": [
        "yhat"
      ],
      "metadata": {
        "id": "XvGXLvS7zQpl"
      },
      "execution_count": null,
      "outputs": []
    },
    {
      "cell_type": "code",
      "source": [
        "yhat_prob"
      ],
      "metadata": {
        "id": "aMzqRgHhzVma"
      },
      "execution_count": null,
      "outputs": []
    },
    {
      "cell_type": "code",
      "source": [
        "coefficients = pd.Series(LR.coef_[0], index=df_test.columns[:-1])\n",
        "coefficients.sort_values().plot(kind='barh')\n",
        "plt.title(\"Feature Coefficients in Logistic Regression Churn Model\")\n",
        "plt.xlabel(\"Coefficient Value\")\n",
        "plt.show()"
      ],
      "metadata": {
        "id": "ErRdxbnF1tbw"
      },
      "execution_count": null,
      "outputs": []
    },
    {
      "cell_type": "code",
      "source": [
        "log_loss(y_test, yhat_prob)"
      ],
      "metadata": {
        "id": "5QXV3vRx9aah"
      },
      "execution_count": null,
      "outputs": []
    },
    {
      "cell_type": "code",
      "source": [
        "from sklearn.feature_selection import RFE\n",
        "from sklearn.linear_model import LogisticRegression\n",
        "\n",
        "model = LogisticRegression(solver='liblinear')\n",
        "rfe = RFE(model, n_features_to_select=5)\n",
        "rfe = rfe.fit(X, y)\n",
        "print(rfe.support_)\n",
        "print(rfe.ranking_)\n"
      ],
      "metadata": {
        "id": "ftCSKyGOqhb9"
      },
      "execution_count": null,
      "outputs": []
    }
  ]
}