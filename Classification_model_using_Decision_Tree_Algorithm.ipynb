{
  "nbformat": 4,
  "nbformat_minor": 0,
  "metadata": {
    "colab": {
      "private_outputs": true,
      "provenance": [],
      "authorship_tag": "ABX9TyPhl2lofw3/TQh/KwhQ+d3f",
      "include_colab_link": true
    },
    "kernelspec": {
      "name": "python3",
      "display_name": "Python 3"
    },
    "language_info": {
      "name": "python"
    }
  },
  "cells": [
    {
      "cell_type": "markdown",
      "metadata": {
        "id": "view-in-github",
        "colab_type": "text"
      },
      "source": [
        "<a href=\"https://colab.research.google.com/github/ArezooNajafi/Arezoo_Najafi-Portfolio/blob/master/Classification_model_using_Decision_Tree_Algorithm.ipynb\" target=\"_parent\"><img src=\"https://colab.research.google.com/assets/colab-badge.svg\" alt=\"Open In Colab\"/></a>"
      ]
    },
    {
      "cell_type": "markdown",
      "source": [
        "a set of patients, all of whom suffered from the same illness. During their course of treatment, each patient responded to one of 5 medications, Drug A, Drug B, Drug C, Drug X and Drug Y.\n"
      ],
      "metadata": {
        "id": "hzJ9IPf-106k"
      }
    },
    {
      "cell_type": "code",
      "execution_count": null,
      "metadata": {
        "id": "Cf3yCLsQ1nN8"
      },
      "outputs": [],
      "source": [
        "!pip install numpy\n",
        "!pip install pandas\n",
        "!pip install scikit-learn\n",
        "!pip install matplotlib"
      ]
    },
    {
      "cell_type": "code",
      "source": [
        "import numpy as np\n",
        "import pandas as pd\n",
        "from matplotlib import pyplot as plt\n",
        "from sklearn.preprocessing import LabelEncoder\n",
        "from sklearn.model_selection import train_test_split\n",
        "from sklearn.tree import DecisionTreeClassifier, plot_tree\n",
        "from sklearn import metrics\n",
        "\n"
      ],
      "metadata": {
        "id": "wV0Jha7C6aZY"
      },
      "execution_count": null,
      "outputs": []
    },
    {
      "cell_type": "code",
      "source": [
        "path= 'https://cf-courses-data.s3.us.cloud-object-storage.appdomain.cloud/IBMDeveloperSkillsNetwork-ML0101EN-SkillsNetwork/labs/Module%203/data/drug200.csv'\n",
        "df = pd.read_csv(path)\n",
        "df"
      ],
      "metadata": {
        "id": "i0SrXfaq6lYA"
      },
      "execution_count": null,
      "outputs": []
    },
    {
      "cell_type": "code",
      "source": [
        "df.info()"
      ],
      "metadata": {
        "id": "YgnDQZKI6s8p"
      },
      "execution_count": null,
      "outputs": []
    },
    {
      "cell_type": "code",
      "source": [
        "encoder=LabelEncoder()\n",
        "df['Sex']=encoder.fit_transform(df['Sex'])\n",
        "df['BP']=encoder.fit_transform(df['BP'])\n",
        "df['Cholesterol']=encoder.fit_transform(df['Cholesterol'])\n",
        "df"
      ],
      "metadata": {
        "id": "_LNvdqg77C8P"
      },
      "execution_count": null,
      "outputs": []
    },
    {
      "cell_type": "code",
      "source": [
        "df.describe()"
      ],
      "metadata": {
        "id": "gi0BxlMZDypk"
      },
      "execution_count": null,
      "outputs": []
    },
    {
      "cell_type": "markdown",
      "source": [
        "With this, we have 5 parameters that can be used for modeling and 1 feature as the target variable.\n",
        "<br>\n",
        "For parameter 'Sex' : $M \\rightarrow 1, F \\rightarrow 0$ <br>\n",
        "For parameter 'BP' : $High \\rightarrow 0, Low \\rightarrow 1, Normal \\rightarrow 2$<br>\n",
        "For parameter 'Cholesterol' : $High \\rightarrow 0, Normal \\rightarrow 1$"
      ],
      "metadata": {
        "id": "1lsiPzn87Xe7"
      }
    },
    {
      "cell_type": "code",
      "source": [
        "df.isna().sum()"
      ],
      "metadata": {
        "id": "luJFEzg372pY"
      },
      "execution_count": null,
      "outputs": []
    },
    {
      "cell_type": "code",
      "source": [
        "df['Drug']= df['Drug'].astype('category').cat.codes\n",
        "df\n"
      ],
      "metadata": {
        "id": "baSlYEVM75_r"
      },
      "execution_count": null,
      "outputs": []
    },
    {
      "cell_type": "code",
      "source": [
        "df['Drug'].unique()"
      ],
      "metadata": {
        "id": "YfTzoJvA9l3u"
      },
      "execution_count": null,
      "outputs": []
    },
    {
      "cell_type": "code",
      "source": [
        "df.corr()"
      ],
      "metadata": {
        "id": "3S2glhLL-M7z"
      },
      "execution_count": null,
      "outputs": []
    },
    {
      "cell_type": "code",
      "source": [
        "category_counts = df['Drug'].value_counts()\n",
        "\n",
        "# Plot the count plot\n",
        "plt.bar(category_counts.index, category_counts.values, color='blue')\n",
        "plt.xlabel('Drug')\n",
        "plt.ylabel('Count')\n",
        "plt.title('Category Distribution')\n",
        "plt.xticks(rotation=45)  # Rotate labels for better readability if needed\n",
        "plt.show()"
      ],
      "metadata": {
        "id": "Pnrvb4al-a1A"
      },
      "execution_count": null,
      "outputs": []
    },
    {
      "cell_type": "code",
      "source": [
        "X=df.drop('Drug',axis=1)\n",
        "y=df['Drug']"
      ],
      "metadata": {
        "id": "qJnAzB1--zY3"
      },
      "execution_count": null,
      "outputs": []
    },
    {
      "cell_type": "code",
      "source": [
        "X"
      ],
      "metadata": {
        "id": "Aefkm5LF-4sB"
      },
      "execution_count": null,
      "outputs": []
    },
    {
      "cell_type": "code",
      "source": [
        "X_train, X_test, y_train, y_test = train_test_split(X, y, test_size=0.3, random_state=32)"
      ],
      "metadata": {
        "id": "sOlquMMc-595"
      },
      "execution_count": null,
      "outputs": []
    },
    {
      "cell_type": "code",
      "source": [
        "drugTree = DecisionTreeClassifier(criterion=\"entropy\", max_depth = 4)"
      ],
      "metadata": {
        "id": "ybn4usPB-_OM"
      },
      "execution_count": null,
      "outputs": []
    },
    {
      "cell_type": "code",
      "source": [
        "drugTree.fit(X_train,y_train)"
      ],
      "metadata": {
        "id": "h2mvPQNGArd0"
      },
      "execution_count": null,
      "outputs": []
    },
    {
      "cell_type": "code",
      "source": [
        "y_pred=drugTree.predict(X_test)"
      ],
      "metadata": {
        "id": "FZFm9_wtBEzh"
      },
      "execution_count": null,
      "outputs": []
    },
    {
      "cell_type": "code",
      "source": [
        "from sklearn.metrics import accuracy_score, classification_report"
      ],
      "metadata": {
        "id": "Yq5_L9FSBdpl"
      },
      "execution_count": null,
      "outputs": []
    },
    {
      "cell_type": "code",
      "source": [
        "print(\"Accuracy:\", accuracy_score(y_test, y_pred))\n",
        "print(\"Classification Report:\\n\", classification_report(y_test, y_pred))\n"
      ],
      "metadata": {
        "id": "28k7extRBMZF"
      },
      "execution_count": null,
      "outputs": []
    },
    {
      "cell_type": "code",
      "source": [
        "print(\"Decision Trees's Accuracy: \", metrics.accuracy_score(y_test,y_pred))"
      ],
      "metadata": {
        "id": "rpiuHkuVCcr9"
      },
      "execution_count": null,
      "outputs": []
    },
    {
      "cell_type": "code",
      "source": [
        "plot_tree(drugTree)\n",
        "plt.show()"
      ],
      "metadata": {
        "id": "tbYLWNRkDIp2"
      },
      "execution_count": null,
      "outputs": []
    },
    {
      "cell_type": "code",
      "source": [
        "X_test.iloc[4]"
      ],
      "metadata": {
        "id": "UMkgMxXlDTmI"
      },
      "execution_count": null,
      "outputs": []
    }
  ]
}