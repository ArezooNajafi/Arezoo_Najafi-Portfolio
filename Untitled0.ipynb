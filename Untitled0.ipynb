{
  "nbformat": 4,
  "nbformat_minor": 0,
  "metadata": {
    "colab": {
      "private_outputs": true,
      "provenance": [],
      "authorship_tag": "ABX9TyMNaUl8egFMSDP3nsUBttBL",
      "include_colab_link": true
    },
    "kernelspec": {
      "name": "python3",
      "display_name": "Python 3"
    },
    "language_info": {
      "name": "python"
    }
  },
  "cells": [
    {
      "cell_type": "markdown",
      "metadata": {
        "id": "view-in-github",
        "colab_type": "text"
      },
      "source": [
        "<a href=\"https://colab.research.google.com/github/ArezooNajafi/Arezoo_Najafi-Portfolio/blob/master/Untitled0.ipynb\" target=\"_parent\"><img src=\"https://colab.research.google.com/assets/colab-badge.svg\" alt=\"Open In Colab\"/></a>"
      ]
    },
    {
      "cell_type": "markdown",
      "source": [
        "## Some of the popular languages\n",
        "\n",
        "- Python\n",
        "- R\n",
        "- SQL\n",
        "- Scala\n",
        "- Java\n",
        "- C++\n",
        "- Julia\n",
        "- JavaScript\n",
        "- PHP\n",
        "- Go\n",
        "- Ruby\n",
        "- Visual Basic\n"
      ],
      "metadata": {
        "id": "18fNIZN125wW"
      }
    },
    {
      "cell_type": "markdown",
      "source": [
        "\n",
        "## Some of the popular languages\n",
        "\n",
        "- Create Markdown\n",
        "- Add comments\n",
        "- Learn different languages\n",
        "\n",
        "\n",
        "\n",
        "\n"
      ],
      "metadata": {
        "id": "8xb_Lg_77zDn"
      }
    },
    {
      "cell_type": "markdown",
      "source": [
        "## Some popular Python libraries\n",
        "\n",
        "- Pandas\n",
        "- Numpy\n",
        "- Matplotlib\n",
        "- Seaborn\n",
        "- Scikit-learn\n",
        "- Keras\n",
        "- TensorFlow\n",
        "- PyTorch\n",
        "- Apache Spark\n",
        "- Vegas\n",
        "- Big DL\n",
        "- Ggplot2\n"
      ],
      "metadata": {
        "id": "2zg3EZ8U3iJs"
      }
    },
    {
      "cell_type": "markdown",
      "source": [
        "## Some popular IDEs and notebooks\n",
        "\n",
        "- Anaconda\n",
        "- Jupyter Notebooks\n",
        "- R Studio\n",
        "- Spyder\n",
        "- Zeppelin\n"
      ],
      "metadata": {
        "id": "6TWvpIzV4bYB"
      }
    },
    {
      "cell_type": "code",
      "source": [
        "# Perform the addition to get the result 17\n",
        "result = 10 + 7\n",
        "\n",
        "# Output the result\n",
        "print(result)\n"
      ],
      "metadata": {
        "id": "VqlyvCWk4aAD"
      },
      "execution_count": null,
      "outputs": []
    },
    {
      "cell_type": "code",
      "source": [
        "# Convert 200 minutes to hours\n",
        "minutes = 200\n",
        "hours = minutes / 60\n",
        "\n",
        "# Output the result\n",
        "print(round(hours, 2))\n"
      ],
      "metadata": {
        "id": "Jcd2pRbn7GZL"
      },
      "execution_count": null,
      "outputs": []
    }
  ]
}